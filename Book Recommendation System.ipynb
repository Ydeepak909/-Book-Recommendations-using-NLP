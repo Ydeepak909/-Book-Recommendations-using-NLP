{
 "cells": [
  {
   "cell_type": "markdown",
   "metadata": {
    "dc": {
     "key": "3"
    },
    "deletable": false,
    "editable": false,
    "run_control": {
     "frozen": true
    },
    "tags": [
     "context"
    ]
   },
   "source": [
    "## 1. Darwin's bibliography\n",
    "<p><img src=\"https://assets.datacamp.com/production/project_607/img/CharlesDarwin.jpg\" alt=\"Charles Darwin\" width=\"300px\"></p>\n",
    "<p>Charles Darwin is one of the few universal figures of science. His most renowned work is without a doubt his \"<em>On the Origin of Species</em>\" published in 1859 which introduced the concept of natural selection. But Darwin wrote many other books on a wide range of topics, including geology, plants or his personal life. In this notebook, we will automatically detect how closely related his books are to each other.</p>\n",
    "<p>To this purpose, we will develop the bases of <strong>a content-based book recommendation system</strong>, which will determine which books are close to each other based on how similar the discussed topics are. The methods we will use are commonly used in text- or documents-heavy industries such as legal, tech or customer support to perform some common task such as text classification or handling search engine queries.</p>\n",
    "<p>Let's take a look at the books we'll use in our recommendation system.</p>"
   ]
  },
  {
   "cell_type": "code",
   "execution_count": 1,
   "metadata": {
    "dc": {
     "key": "3"
    },
    "tags": [
     "sample_code"
    ]
   },
   "outputs": [
    {
     "data": {
      "text/plain": [
       "['C:/Users/Ajit/Downloads/projects/Darwin_books/books\\\\Autobiography.txt',\n",
       " 'C:/Users/Ajit/Downloads/projects/Darwin_books/books\\\\CoralReefs.txt',\n",
       " 'C:/Users/Ajit/Downloads/projects/Darwin_books/books\\\\DescentofMan.txt',\n",
       " 'C:/Users/Ajit/Downloads/projects/Darwin_books/books\\\\DifferentFormsofFlowers.txt',\n",
       " 'C:/Users/Ajit/Downloads/projects/Darwin_books/books\\\\EffectsCrossSelfFertilization.txt',\n",
       " 'C:/Users/Ajit/Downloads/projects/Darwin_books/books\\\\ExpressionofEmotionManAnimals.txt',\n",
       " 'C:/Users/Ajit/Downloads/projects/Darwin_books/books\\\\FormationVegetableMould.txt',\n",
       " 'C:/Users/Ajit/Downloads/projects/Darwin_books/books\\\\FoundationsOriginofSpecies.txt',\n",
       " 'C:/Users/Ajit/Downloads/projects/Darwin_books/books\\\\GeologicalObservationsSouthAmerica.txt',\n",
       " 'C:/Users/Ajit/Downloads/projects/Darwin_books/books\\\\InsectivorousPlants.txt',\n",
       " 'C:/Users/Ajit/Downloads/projects/Darwin_books/books\\\\LifeandLettersVol1.txt',\n",
       " 'C:/Users/Ajit/Downloads/projects/Darwin_books/books\\\\LifeandLettersVol2.txt',\n",
       " 'C:/Users/Ajit/Downloads/projects/Darwin_books/books\\\\MonographCirripedia.txt',\n",
       " 'C:/Users/Ajit/Downloads/projects/Darwin_books/books\\\\MonographCirripediaVol2.txt',\n",
       " 'C:/Users/Ajit/Downloads/projects/Darwin_books/books\\\\MovementClimbingPlants.txt',\n",
       " 'C:/Users/Ajit/Downloads/projects/Darwin_books/books\\\\OriginofSpecies.txt',\n",
       " 'C:/Users/Ajit/Downloads/projects/Darwin_books/books\\\\PowerMovementPlants.txt']"
      ]
     },
     "execution_count": 1,
     "metadata": {},
     "output_type": "execute_result"
    }
   ],
   "source": [
    "# Import library\n",
    "import glob\n",
    "\n",
    "# The books files are contained in this folder\n",
    "folder = 'C:/Users/Ajit/Downloads/projects/Darwin_books/books/'\n",
    "#folder = \"https://drive.google.com/drive/folders/1wYUJifutuAvgLPSXDIUh5anqd6wE_ZZW?usp=sharing\"\n",
    "\n",
    "# List all the .txt files and sort them alphabetically\n",
    "files = glob.glob(folder + \"*.txt\")\n",
    "files.sort()\n",
    "files"
   ]
  },
  {
   "cell_type": "markdown",
   "metadata": {
    "dc": {
     "key": "10"
    },
    "deletable": false,
    "editable": false,
    "run_control": {
     "frozen": true
    },
    "tags": [
     "context"
    ]
   },
   "source": [
    "## 2. Load the contents of each book into Python\n",
    "<p>As a first step, we need to load the content of these books into Python and do some basic pre-processing to facilitate the downstream analyses. We call such a collection of texts <strong>a corpus</strong>. We will also store the titles for these books for future reference and print their respective length to get a gauge for their contents.</p>"
   ]
  },
  {
   "cell_type": "code",
   "execution_count": 2,
   "metadata": {
    "dc": {
     "key": "10"
    },
    "tags": [
     "sample_code"
    ]
   },
   "outputs": [
    {
     "data": {
      "text/plain": [
       "[123231,\n",
       " 496068,\n",
       " 1776539,\n",
       " 617088,\n",
       " 913713,\n",
       " 624232,\n",
       " 335920,\n",
       " 523021,\n",
       " 797401,\n",
       " 901406,\n",
       " 1047518,\n",
       " 1010643,\n",
       " 767492,\n",
       " 1660866,\n",
       " 298319,\n",
       " 916267,\n",
       " 1093567]"
      ]
     },
     "execution_count": 2,
     "metadata": {},
     "output_type": "execute_result"
    }
   ],
   "source": [
    "# Import libraries\n",
    "import re, os\n",
    "\n",
    "# Initialize the object that will contain the texts and titles\n",
    "txts = []\n",
    "titles = []\n",
    "\n",
    "for n in files:\n",
    "    # Open each file\n",
    "    f = open(n, encoding='utf-8-sig')\n",
    "    # Remove all non-alpha-numeric characters\n",
    "    data = re.sub('[\\W_]+', ' ', f.read())\n",
    "    # Store the texts and titles of the books in two separate lists\n",
    "    txts.append(data)\n",
    "    titles.append(os.path.basename(n).replace(\".txt\", \"\"))\n",
    "\n",
    "# Print the length, in characters, of each book\n",
    "[len(t) for t in txts]"
   ]
  },
  {
   "cell_type": "markdown",
   "metadata": {
    "dc": {
     "key": "17"
    },
    "deletable": false,
    "editable": false,
    "run_control": {
     "frozen": true
    },
    "tags": [
     "context"
    ]
   },
   "source": [
    "## 3. Find \"On the Origin of Species\"\n",
    "<p>For the next parts of this analysis, we will often check the results returned by our method for a given book. For consistency, we will refer to Darwin's most famous book: \"<em>On the Origin of Species</em>.\" Let's find to which index this book is associated.</p>"
   ]
  },
  {
   "cell_type": "code",
   "execution_count": 3,
   "metadata": {
    "dc": {
     "key": "17"
    },
    "tags": [
     "sample_code"
    ]
   },
   "outputs": [
    {
     "name": "stdout",
     "output_type": "stream",
     "text": [
      "15\n"
     ]
    }
   ],
   "source": [
    "# Browse the list containing all the titles\n",
    "for i in range(len(titles)):\n",
    "    # Store the index if the title is \"OriginofSpecies\"\n",
    "    if titles[i] == 'OriginofSpecies':\n",
    "        ori = i\n",
    "\n",
    "# Print the stored index\n",
    "print(ori)"
   ]
  },
  {
   "cell_type": "markdown",
   "metadata": {
    "dc": {
     "key": "24"
    },
    "deletable": false,
    "editable": false,
    "run_control": {
     "frozen": true
    },
    "tags": [
     "context"
    ]
   },
   "source": [
    "## 4. Tokenize the corpus\n",
    "<p>As a next step, we need to transform the corpus into a format that is easier to deal with for the downstream analyses. We will tokenize our corpus, i.e., transform each text into a list of the individual words (called tokens) it is made of. To check the output of our process, we will print the first 20 tokens of \"<em>On the Origin of Species</em>\".</p>"
   ]
  },
  {
   "cell_type": "code",
   "execution_count": 4,
   "metadata": {
    "dc": {
     "key": "24"
    },
    "scrolled": true,
    "tags": [
     "sample_code"
    ]
   },
   "outputs": [
    {
     "data": {
      "text/plain": [
       "['on',\n",
       " 'origin',\n",
       " 'species',\n",
       " 'but',\n",
       " 'with',\n",
       " 'regard',\n",
       " 'material',\n",
       " 'world',\n",
       " 'can',\n",
       " 'least',\n",
       " 'go',\n",
       " 'so',\n",
       " 'far',\n",
       " 'this',\n",
       " 'can',\n",
       " 'perceive',\n",
       " 'events',\n",
       " 'are',\n",
       " 'brought',\n",
       " 'about']"
      ]
     },
     "execution_count": 4,
     "metadata": {},
     "output_type": "execute_result"
    }
   ],
   "source": [
    "# Define a list of stop words\n",
    "stoplist = set('for a of the and to in to be which some is at that we i who whom show via may my our might as well'.split())\n",
    "\n",
    "# Convert the text to lower case \n",
    "txts_lower_case = [t.lower() for t in txts]\n",
    "\n",
    "# Transform the text into tokens \n",
    "txts_split = [t.split() for t in txts_lower_case]\n",
    "\n",
    "# Remove tokens which are part of the list of stop words\n",
    "texts = [[word for word in txt if word not in stoplist] for txt in txts_split]\n",
    "\n",
    "# Print the first 20 tokens for the \"On the Origin of Species\" book\n",
    "texts[ori][:20]"
   ]
  },
  {
   "cell_type": "markdown",
   "metadata": {
    "dc": {
     "key": "31"
    },
    "deletable": false,
    "editable": false,
    "run_control": {
     "frozen": true
    },
    "tags": [
     "context"
    ]
   },
   "source": [
    "## 5. Stemming of the tokenized corpus\n",
    "<p>If you have read <em>On the Origin of Species</em>, you will have noticed that Charles Darwin can use different words to refer to a similar concept. For example, the concept of selection can be described by words such as <em>selection</em>, <em>selective</em>, <em>select</em> or <em>selects</em>. This will dilute the weight given to this concept in the book and potentially bias the results of the analysis.</p>\n",
    "<p>To solve this issue, it is a common practice to use a <strong>stemming process</strong>, which will group together the inflected forms of a word so they can be analysed as a single item: <strong>the stem</strong>. In our <em>On the Origin of Species</em> example, the words related to the concept of selection would be gathered under the <em>select</em> stem.</p>\n",
    "<p>As we are analysing 20 full books, the stemming algorithm can take several minutes to run and, in order to make the process faster, we will directly load the final results from a pickle file and review the method used to generate it.</p>"
   ]
  },
  {
   "cell_type": "code",
   "execution_count": 5,
   "metadata": {},
   "outputs": [],
   "source": [
    "# Load the Porter stemming function from the nltk package\n",
    "import pickle\n",
    "from nltk.stem import PorterStemmer\n",
    "\n",
    "# Create an instance of a PorterStemmer object\n",
    "porter = PorterStemmer()\n",
    "\n",
    "# For each token of each text, we generated its stem \n",
    "texts_stem = [[porter.stem(token) for token in text] for text in texts]\n"
   ]
  },
  {
   "cell_type": "code",
   "execution_count": 6,
   "metadata": {},
   "outputs": [],
   "source": [
    "# Save to pickle file\n",
    "pickle.dump( texts_stem, open( \"C:/Users/Ajit/Downloads/projects/Darwin_books/texts_stem.p\", \"wb\" ) )"
   ]
  },
  {
   "cell_type": "code",
   "execution_count": 7,
   "metadata": {
    "dc": {
     "key": "31"
    },
    "tags": [
     "sample_code"
    ]
   },
   "outputs": [
    {
     "data": {
      "text/plain": [
       "['on',\n",
       " 'origin',\n",
       " 'speci',\n",
       " 'but',\n",
       " 'with',\n",
       " 'regard',\n",
       " 'materi',\n",
       " 'world',\n",
       " 'can',\n",
       " 'least',\n",
       " 'go',\n",
       " 'so',\n",
       " 'far',\n",
       " 'thi',\n",
       " 'can',\n",
       " 'perceiv',\n",
       " 'event',\n",
       " 'are',\n",
       " 'brought',\n",
       " 'about']"
      ]
     },
     "execution_count": 7,
     "metadata": {},
     "output_type": "execute_result"
    }
   ],
   "source": [
    "import pickle\n",
    "\n",
    "# Load the stemmed tokens list from the pregenerated pickle file\n",
    "texts_stem = pickle.load(open('C:/Users/Ajit/Downloads/projects/Darwin_books/texts_stem.p', 'rb'))\n",
    "\n",
    "# Print the 20 first stemmed tokens from the \"On the Origin of Species\" book\n",
    "texts_stem[ori][:20]"
   ]
  },
  {
   "cell_type": "markdown",
   "metadata": {
    "dc": {
     "key": "38"
    },
    "deletable": false,
    "editable": false,
    "run_control": {
     "frozen": true
    },
    "tags": [
     "context"
    ]
   },
   "source": [
    "## 6. Building a bag-of-words model\n",
    "<p>Now that we have transformed the texts into stemmed tokens, we need to build models that will be useable by downstream algorithms.</p>\n",
    "<p>First, we need to will create a universe of all words contained in our corpus of Charles Darwin's books, which we call <em>a dictionary</em>. Then, using the stemmed tokens and the dictionary, we will create <strong>bag-of-words models</strong> (BoW) of each of our texts. The BoW models will represent our books as a list of all uniques tokens they contain associated with their respective number of occurrences. </p>\n",
    "<p>To better understand the structure of such a model, we will print the five first elements of one of the \"<em>On the Origin of Species</em>\" BoW model.</p>"
   ]
  },
  {
   "cell_type": "code",
   "execution_count": 8,
   "metadata": {
    "dc": {
     "key": "38"
    },
    "tags": [
     "sample_code"
    ]
   },
   "outputs": [
    {
     "data": {
      "text/plain": [
       "[(0, 11), (5, 51), (6, 1), (8, 2), (21, 1)]"
      ]
     },
     "execution_count": 8,
     "metadata": {},
     "output_type": "execute_result"
    }
   ],
   "source": [
    "# Load the functions allowing to create and use dictionaries\n",
    "from gensim import corpora\n",
    "\n",
    "# Create a dictionary from the stemmed tokens\n",
    "dictionary = corpora.Dictionary(texts_stem)\n",
    "\n",
    "# Create a bag-of-words model for each book, using the previously generated dictionary\n",
    "bows = [dictionary.doc2bow(text) for text in texts_stem]\n",
    "\n",
    "# Print the first five elements of the On the Origin of species' BoW model\n",
    "bows[15][:5]"
   ]
  },
  {
   "cell_type": "markdown",
   "metadata": {
    "dc": {
     "key": "45"
    },
    "deletable": false,
    "editable": false,
    "run_control": {
     "frozen": true
    },
    "tags": [
     "context"
    ]
   },
   "source": [
    "## 7. The most common words of a given book\n",
    "<p>The results returned by the bag-of-words model is certainly easy to use for a computer but hard to interpret for a human. It is not straightforward to understand which stemmed tokens are present in a given book from Charles Darwin, and how many occurrences we can find.</p>\n",
    "<p>In order to better understand how the model has been generated and visualize its content, we will transform it into a DataFrame and display the 10 most common stems for the book \"<em>On the Origin of Species</em>\".</p>"
   ]
  },
  {
   "cell_type": "code",
   "execution_count": 9,
   "metadata": {
    "dc": {
     "key": "45"
    },
    "tags": [
     "sample_code"
    ]
   },
   "outputs": [
    {
     "name": "stdout",
     "output_type": "stream",
     "text": [
      "      index  occurrences  token\n",
      "748    1168         2023   have\n",
      "1119   1736         1558     on\n",
      "1489   2288         1543  speci\n",
      "892    1366         1480     it\n",
      "239     393         1362     by\n",
      "1128   1747         1201     or\n",
      "125     218         1140    are\n",
      "665    1043         1137   from\n",
      "1774   2703         1000   with\n",
      "1609   2452          962    thi\n"
     ]
    }
   ],
   "source": [
    "# Import pandas to create and manipulate DataFrames\n",
    "import pandas as pd\n",
    "\n",
    "# Convert the BoW model for \"On the Origin of Species\" into a DataFrame\n",
    "df_bow_origin = pd.DataFrame(bows[15])\n",
    "\n",
    "# Add the column names to the DataFrame\n",
    "df_bow_origin.columns=['index','occurrences']\n",
    "\n",
    "# Add a column containing the token corresponding to the dictionary index\n",
    "df_bow_origin['token'] = [dictionary[index] for index in df_bow_origin['index']]\n",
    "\n",
    "# Sort the DataFrame by descending number of occurrences and print the first 10 values\n",
    "print(df_bow_origin.sort_values(by = 'occurrences', ascending = False).head(10))"
   ]
  },
  {
   "cell_type": "markdown",
   "metadata": {
    "dc": {
     "key": "52"
    },
    "deletable": false,
    "editable": false,
    "run_control": {
     "frozen": true
    },
    "tags": [
     "context"
    ]
   },
   "source": [
    "## 8. Build a tf-idf model\n",
    "<p>If it wasn't for the presence of the stem \"<em>speci</em>\", we would have a hard time to guess this BoW model comes from the <em>On the Origin of Species</em> book. The most recurring words are, apart from few exceptions, very common and unlikely to carry any information peculiar to the given book. We need to use an additional step in order to determine which tokens are the most specific to a book.</p>\n",
    "<p>To do so, we will use a <strong>tf-idf model</strong> (term frequency–inverse document frequency). This model defines the importance of each word depending on how frequent it is in this text and how infrequent it is in all the other documents. As a result, a high tf-idf score for a word will indicate that this word is specific to this text.</p>\n",
    "<p>After computing those scores, we will print the 10 words most specific to the \"<em>On the Origin of Species</em>\" book (i.e., the 10 words with the highest tf-idf score).</p>"
   ]
  },
  {
   "cell_type": "code",
   "execution_count": 10,
   "metadata": {
    "dc": {
     "key": "52"
    },
    "tags": [
     "sample_code"
    ]
   },
   "outputs": [
    {
     "name": "stdout",
     "output_type": "stream",
     "text": [
      "[(21, 0.0005255633255884418), (23, 0.0020791366878534566), (27, 0.0007607527341100875), (28, 0.0025585306785665713), (31, 0.0006823771870687277), (35, 0.0010395683439267283), (36, 0.0008528435595221906), (51, 0.0010511266511768836), (54, 0.0020791366878534566), (56, 0.0020791366878534566)]\n"
     ]
    }
   ],
   "source": [
    "# Load the gensim functions that will allow us to generate tf-idf models\n",
    "from gensim.models import TfidfModel\n",
    "\n",
    "# Generate the tf-idf model\n",
    "model = TfidfModel(bows)\n",
    "\n",
    "# Print the first 10 entries of the model for \"On the Origin of Species\"\n",
    "print(model[bows[ori]][0:10])\n"
   ]
  },
  {
   "cell_type": "markdown",
   "metadata": {
    "dc": {
     "key": "59"
    },
    "deletable": false,
    "editable": false,
    "run_control": {
     "frozen": true
    },
    "tags": [
     "context"
    ]
   },
   "source": [
    "## 9. The results of the tf-idf model\n",
    "<p>Once again, the format of those results is hard to interpret for a human. Therefore, we will transform it into a more readable version and display the 10 most specific words for the \"<em>On the Origin of Species</em>\" book.</p>"
   ]
  },
  {
   "cell_type": "code",
   "execution_count": 11,
   "metadata": {
    "dc": {
     "key": "59"
    },
    "tags": [
     "sample_code"
    ]
   },
   "outputs": [
    {
     "name": "stdout",
     "output_type": "stream",
     "text": [
      "         id     score      token\n",
      "857    2164  0.242810     select\n",
      "3075  10108  0.228518     pigeon\n",
      "122     369  0.197007      breed\n",
      "2957   9395  0.187711     migrat\n",
      "923    2325  0.151777     steril\n",
      "277     752  0.140570     domest\n",
      "3812  16046  0.138358    gärtner\n",
      "360     966  0.127074     fertil\n",
      "3508  12729  0.124727  naturalis\n",
      "489    1255  0.123510     hybrid\n"
     ]
    }
   ],
   "source": [
    "# Convert the tf-idf model for \"On the Origin of Species\" into a DataFrame\n",
    "df_tfidf = pd.DataFrame(model[bows[ori]])\n",
    "\n",
    "# Name the columns of the DataFrame id and score\n",
    "df_tfidf.columns=['id','score']\n",
    "\n",
    "# Add the tokens corresponding to the numerical indices for better readability\n",
    "df_tfidf['token'] = [ dictionary[index] for index in df_tfidf['id']]\n",
    "\n",
    "# Sort the DataFrame by descending tf-idf score and print the first 10 rows.\n",
    "print(df_tfidf.sort_values(by = 'score', ascending = False).head(10))"
   ]
  },
  {
   "cell_type": "markdown",
   "metadata": {
    "dc": {
     "key": "66"
    },
    "deletable": false,
    "editable": false,
    "run_control": {
     "frozen": true
    },
    "tags": [
     "context"
    ]
   },
   "source": [
    "## 10. Compute distance between texts\n",
    "<p>The results of the tf-idf algorithm now return stemmed tokens which are specific to each book. We can, for example, see that topics such as selection, breeding or domestication are defining \"<em>On the Origin of Species</em>\" (and yes, in this book, Charles Darwin talks quite a lot about pigeons too). Now that we have a model associating tokens to how specific they are to each book, we can measure how related to books are between each other.</p>\n",
    "<p>To this purpose, we will use a measure of similarity called <strong>cosine similarity</strong> and we will visualize the results as a distance matrix, i.e., a matrix showing all pairwise distances between Darwin's books.</p>"
   ]
  },
  {
   "cell_type": "code",
   "execution_count": 12,
   "metadata": {
    "dc": {
     "key": "66"
    },
    "tags": [
     "sample_code"
    ]
   },
   "outputs": [
    {
     "data": {
      "text/html": [
       "<table border=\"1\" class=\"dataframe\">\n",
       "  <thead>\n",
       "    <tr style=\"text-align: right;\">\n",
       "      <th></th>\n",
       "      <th>Autobiography</th>\n",
       "      <th>CoralReefs</th>\n",
       "      <th>DescentofMan</th>\n",
       "      <th>DifferentFormsofFlowers</th>\n",
       "      <th>EffectsCrossSelfFertilization</th>\n",
       "      <th>ExpressionofEmotionManAnimals</th>\n",
       "      <th>FormationVegetableMould</th>\n",
       "      <th>FoundationsOriginofSpecies</th>\n",
       "      <th>GeologicalObservationsSouthAmerica</th>\n",
       "      <th>InsectivorousPlants</th>\n",
       "      <th>LifeandLettersVol1</th>\n",
       "      <th>LifeandLettersVol2</th>\n",
       "      <th>MonographCirripedia</th>\n",
       "      <th>MonographCirripediaVol2</th>\n",
       "      <th>MovementClimbingPlants</th>\n",
       "      <th>OriginofSpecies</th>\n",
       "      <th>PowerMovementPlants</th>\n",
       "    </tr>\n",
       "  </thead>\n",
       "  <tbody>\n",
       "    <tr>\n",
       "      <th>Autobiography</th>\n",
       "      <td>1.000000</td>\n",
       "      <td>0.058072</td>\n",
       "      <td>0.079512</td>\n",
       "      <td>0.056076</td>\n",
       "      <td>0.063017</td>\n",
       "      <td>0.089236</td>\n",
       "      <td>0.038641</td>\n",
       "      <td>0.068319</td>\n",
       "      <td>0.032430</td>\n",
       "      <td>0.012932</td>\n",
       "      <td>0.397027</td>\n",
       "      <td>0.222599</td>\n",
       "      <td>0.005901</td>\n",
       "      <td>0.009169</td>\n",
       "      <td>0.022878</td>\n",
       "      <td>0.101916</td>\n",
       "      <td>0.014422</td>\n",
       "    </tr>\n",
       "    <tr>\n",
       "      <th>CoralReefs</th>\n",
       "      <td>0.058072</td>\n",
       "      <td>1.000000</td>\n",
       "      <td>0.010450</td>\n",
       "      <td>0.002322</td>\n",
       "      <td>0.002340</td>\n",
       "      <td>0.005371</td>\n",
       "      <td>0.030994</td>\n",
       "      <td>0.026585</td>\n",
       "      <td>0.061500</td>\n",
       "      <td>0.002629</td>\n",
       "      <td>0.032794</td>\n",
       "      <td>0.018258</td>\n",
       "      <td>0.007710</td>\n",
       "      <td>0.012122</td>\n",
       "      <td>0.001613</td>\n",
       "      <td>0.044119</td>\n",
       "      <td>0.003016</td>\n",
       "    </tr>\n",
       "    <tr>\n",
       "      <th>DescentofMan</th>\n",
       "      <td>0.079512</td>\n",
       "      <td>0.010450</td>\n",
       "      <td>1.000000</td>\n",
       "      <td>0.078353</td>\n",
       "      <td>0.029315</td>\n",
       "      <td>0.155849</td>\n",
       "      <td>0.027552</td>\n",
       "      <td>0.141687</td>\n",
       "      <td>0.010701</td>\n",
       "      <td>0.009471</td>\n",
       "      <td>0.056936</td>\n",
       "      <td>0.069930</td>\n",
       "      <td>0.057493</td>\n",
       "      <td>0.045874</td>\n",
       "      <td>0.005411</td>\n",
       "      <td>0.259418</td>\n",
       "      <td>0.012324</td>\n",
       "    </tr>\n",
       "    <tr>\n",
       "      <th>DifferentFormsofFlowers</th>\n",
       "      <td>0.056076</td>\n",
       "      <td>0.002322</td>\n",
       "      <td>0.078353</td>\n",
       "      <td>1.000000</td>\n",
       "      <td>0.360599</td>\n",
       "      <td>0.006629</td>\n",
       "      <td>0.012546</td>\n",
       "      <td>0.043480</td>\n",
       "      <td>0.003243</td>\n",
       "      <td>0.008602</td>\n",
       "      <td>0.014506</td>\n",
       "      <td>0.038840</td>\n",
       "      <td>0.010178</td>\n",
       "      <td>0.006159</td>\n",
       "      <td>0.009298</td>\n",
       "      <td>0.123183</td>\n",
       "      <td>0.019327</td>\n",
       "    </tr>\n",
       "    <tr>\n",
       "      <th>EffectsCrossSelfFertilization</th>\n",
       "      <td>0.063017</td>\n",
       "      <td>0.002340</td>\n",
       "      <td>0.029315</td>\n",
       "      <td>0.360599</td>\n",
       "      <td>1.000000</td>\n",
       "      <td>0.006734</td>\n",
       "      <td>0.037464</td>\n",
       "      <td>0.043940</td>\n",
       "      <td>0.002454</td>\n",
       "      <td>0.007748</td>\n",
       "      <td>0.016870</td>\n",
       "      <td>0.037227</td>\n",
       "      <td>0.003532</td>\n",
       "      <td>0.003357</td>\n",
       "      <td>0.017195</td>\n",
       "      <td>0.138869</td>\n",
       "      <td>0.044200</td>\n",
       "    </tr>\n",
       "    <tr>\n",
       "      <th>ExpressionofEmotionManAnimals</th>\n",
       "      <td>0.089236</td>\n",
       "      <td>0.005371</td>\n",
       "      <td>0.155849</td>\n",
       "      <td>0.006629</td>\n",
       "      <td>0.006734</td>\n",
       "      <td>1.000000</td>\n",
       "      <td>0.020980</td>\n",
       "      <td>0.053355</td>\n",
       "      <td>0.005554</td>\n",
       "      <td>0.010923</td>\n",
       "      <td>0.061608</td>\n",
       "      <td>0.045592</td>\n",
       "      <td>0.018801</td>\n",
       "      <td>0.030630</td>\n",
       "      <td>0.006532</td>\n",
       "      <td>0.068384</td>\n",
       "      <td>0.012384</td>\n",
       "    </tr>\n",
       "    <tr>\n",
       "      <th>FormationVegetableMould</th>\n",
       "      <td>0.038641</td>\n",
       "      <td>0.030994</td>\n",
       "      <td>0.027552</td>\n",
       "      <td>0.012546</td>\n",
       "      <td>0.037464</td>\n",
       "      <td>0.020980</td>\n",
       "      <td>1.000000</td>\n",
       "      <td>0.024733</td>\n",
       "      <td>0.074125</td>\n",
       "      <td>0.037444</td>\n",
       "      <td>0.026769</td>\n",
       "      <td>0.020417</td>\n",
       "      <td>0.022743</td>\n",
       "      <td>0.026832</td>\n",
       "      <td>0.047629</td>\n",
       "      <td>0.052265</td>\n",
       "      <td>0.047410</td>\n",
       "    </tr>\n",
       "    <tr>\n",
       "      <th>FoundationsOriginofSpecies</th>\n",
       "      <td>0.068319</td>\n",
       "      <td>0.026585</td>\n",
       "      <td>0.141687</td>\n",
       "      <td>0.043480</td>\n",
       "      <td>0.043940</td>\n",
       "      <td>0.053355</td>\n",
       "      <td>0.024733</td>\n",
       "      <td>1.000000</td>\n",
       "      <td>0.033126</td>\n",
       "      <td>0.006944</td>\n",
       "      <td>0.063530</td>\n",
       "      <td>0.053935</td>\n",
       "      <td>0.008767</td>\n",
       "      <td>0.012295</td>\n",
       "      <td>0.004505</td>\n",
       "      <td>0.350302</td>\n",
       "      <td>0.009484</td>\n",
       "    </tr>\n",
       "    <tr>\n",
       "      <th>GeologicalObservationsSouthAmerica</th>\n",
       "      <td>0.032430</td>\n",
       "      <td>0.061500</td>\n",
       "      <td>0.010701</td>\n",
       "      <td>0.003243</td>\n",
       "      <td>0.002454</td>\n",
       "      <td>0.005554</td>\n",
       "      <td>0.074125</td>\n",
       "      <td>0.033126</td>\n",
       "      <td>1.000000</td>\n",
       "      <td>0.007848</td>\n",
       "      <td>0.028960</td>\n",
       "      <td>0.012103</td>\n",
       "      <td>0.010565</td>\n",
       "      <td>0.025897</td>\n",
       "      <td>0.002271</td>\n",
       "      <td>0.059184</td>\n",
       "      <td>0.003895</td>\n",
       "    </tr>\n",
       "    <tr>\n",
       "      <th>InsectivorousPlants</th>\n",
       "      <td>0.012932</td>\n",
       "      <td>0.002629</td>\n",
       "      <td>0.009471</td>\n",
       "      <td>0.008602</td>\n",
       "      <td>0.007748</td>\n",
       "      <td>0.010923</td>\n",
       "      <td>0.037444</td>\n",
       "      <td>0.006944</td>\n",
       "      <td>0.007848</td>\n",
       "      <td>1.000000</td>\n",
       "      <td>0.005573</td>\n",
       "      <td>0.014375</td>\n",
       "      <td>0.020202</td>\n",
       "      <td>0.020668</td>\n",
       "      <td>0.227112</td>\n",
       "      <td>0.015224</td>\n",
       "      <td>0.026630</td>\n",
       "    </tr>\n",
       "    <tr>\n",
       "      <th>LifeandLettersVol1</th>\n",
       "      <td>0.397027</td>\n",
       "      <td>0.032794</td>\n",
       "      <td>0.056936</td>\n",
       "      <td>0.014506</td>\n",
       "      <td>0.016870</td>\n",
       "      <td>0.061608</td>\n",
       "      <td>0.026769</td>\n",
       "      <td>0.063530</td>\n",
       "      <td>0.028960</td>\n",
       "      <td>0.005573</td>\n",
       "      <td>1.000000</td>\n",
       "      <td>0.905671</td>\n",
       "      <td>0.005411</td>\n",
       "      <td>0.013511</td>\n",
       "      <td>0.005198</td>\n",
       "      <td>0.095755</td>\n",
       "      <td>0.008402</td>\n",
       "    </tr>\n",
       "    <tr>\n",
       "      <th>LifeandLettersVol2</th>\n",
       "      <td>0.222599</td>\n",
       "      <td>0.018258</td>\n",
       "      <td>0.069930</td>\n",
       "      <td>0.038840</td>\n",
       "      <td>0.037227</td>\n",
       "      <td>0.045592</td>\n",
       "      <td>0.020417</td>\n",
       "      <td>0.053935</td>\n",
       "      <td>0.012103</td>\n",
       "      <td>0.014375</td>\n",
       "      <td>0.905671</td>\n",
       "      <td>1.000000</td>\n",
       "      <td>0.004602</td>\n",
       "      <td>0.011464</td>\n",
       "      <td>0.015535</td>\n",
       "      <td>0.085360</td>\n",
       "      <td>0.010435</td>\n",
       "    </tr>\n",
       "    <tr>\n",
       "      <th>MonographCirripedia</th>\n",
       "      <td>0.005901</td>\n",
       "      <td>0.007710</td>\n",
       "      <td>0.057493</td>\n",
       "      <td>0.010178</td>\n",
       "      <td>0.003532</td>\n",
       "      <td>0.018801</td>\n",
       "      <td>0.022743</td>\n",
       "      <td>0.008767</td>\n",
       "      <td>0.010565</td>\n",
       "      <td>0.020202</td>\n",
       "      <td>0.005411</td>\n",
       "      <td>0.004602</td>\n",
       "      <td>1.000000</td>\n",
       "      <td>0.504440</td>\n",
       "      <td>0.013129</td>\n",
       "      <td>0.030891</td>\n",
       "      <td>0.022203</td>\n",
       "    </tr>\n",
       "    <tr>\n",
       "      <th>MonographCirripediaVol2</th>\n",
       "      <td>0.009169</td>\n",
       "      <td>0.012122</td>\n",
       "      <td>0.045874</td>\n",
       "      <td>0.006159</td>\n",
       "      <td>0.003357</td>\n",
       "      <td>0.030630</td>\n",
       "      <td>0.026832</td>\n",
       "      <td>0.012295</td>\n",
       "      <td>0.025897</td>\n",
       "      <td>0.020668</td>\n",
       "      <td>0.013511</td>\n",
       "      <td>0.011464</td>\n",
       "      <td>0.504440</td>\n",
       "      <td>1.000000</td>\n",
       "      <td>0.007670</td>\n",
       "      <td>0.037043</td>\n",
       "      <td>0.026458</td>\n",
       "    </tr>\n",
       "    <tr>\n",
       "      <th>MovementClimbingPlants</th>\n",
       "      <td>0.022878</td>\n",
       "      <td>0.001613</td>\n",
       "      <td>0.005411</td>\n",
       "      <td>0.009298</td>\n",
       "      <td>0.017195</td>\n",
       "      <td>0.006532</td>\n",
       "      <td>0.047629</td>\n",
       "      <td>0.004505</td>\n",
       "      <td>0.002271</td>\n",
       "      <td>0.227112</td>\n",
       "      <td>0.005198</td>\n",
       "      <td>0.015535</td>\n",
       "      <td>0.013129</td>\n",
       "      <td>0.007670</td>\n",
       "      <td>1.000000</td>\n",
       "      <td>0.009224</td>\n",
       "      <td>0.123231</td>\n",
       "    </tr>\n",
       "    <tr>\n",
       "      <th>OriginofSpecies</th>\n",
       "      <td>0.101916</td>\n",
       "      <td>0.044119</td>\n",
       "      <td>0.259418</td>\n",
       "      <td>0.123183</td>\n",
       "      <td>0.138869</td>\n",
       "      <td>0.068384</td>\n",
       "      <td>0.052265</td>\n",
       "      <td>0.350302</td>\n",
       "      <td>0.059184</td>\n",
       "      <td>0.015224</td>\n",
       "      <td>0.095755</td>\n",
       "      <td>0.085360</td>\n",
       "      <td>0.030891</td>\n",
       "      <td>0.037043</td>\n",
       "      <td>0.009224</td>\n",
       "      <td>1.000000</td>\n",
       "      <td>0.017741</td>\n",
       "    </tr>\n",
       "    <tr>\n",
       "      <th>PowerMovementPlants</th>\n",
       "      <td>0.014422</td>\n",
       "      <td>0.003016</td>\n",
       "      <td>0.012324</td>\n",
       "      <td>0.019327</td>\n",
       "      <td>0.044200</td>\n",
       "      <td>0.012384</td>\n",
       "      <td>0.047410</td>\n",
       "      <td>0.009484</td>\n",
       "      <td>0.003895</td>\n",
       "      <td>0.026630</td>\n",
       "      <td>0.008402</td>\n",
       "      <td>0.010435</td>\n",
       "      <td>0.022203</td>\n",
       "      <td>0.026458</td>\n",
       "      <td>0.123231</td>\n",
       "      <td>0.017741</td>\n",
       "      <td>1.000000</td>\n",
       "    </tr>\n",
       "  </tbody>\n",
       "</table>"
      ],
      "text/plain": [
       "<IPython.core.display.HTML object>"
      ]
     },
     "metadata": {},
     "output_type": "display_data"
    }
   ],
   "source": [
    "# Load the library allowing similarity computations\n",
    "from gensim import similarities\n",
    "from IPython.display import display, HTML\n",
    "\n",
    "# Compute the similarity matrix (pairwise distance between all texts)\n",
    "sims = similarities.MatrixSimilarity(model[bows])\n",
    "\n",
    "# Transform the resulting list into a dataframe\n",
    "sim_df = pd.DataFrame(list(sims))\n",
    "\n",
    "# Add the titles of the books as columns and index of the dataframe\n",
    "sim_df.columns = titles\n",
    "sim_df.index = titles\n",
    "\n",
    "# Print the resulting matrix\n",
    "display(HTML(sim_df.to_html()))"
   ]
  },
  {
   "cell_type": "markdown",
   "metadata": {
    "dc": {
     "key": "73"
    },
    "deletable": false,
    "editable": false,
    "run_control": {
     "frozen": true
    },
    "tags": [
     "context"
    ]
   },
   "source": [
    "## 11. The book most similar to \"On the Origin of Species\"\n",
    "<p>We now have a matrix containing all the similarity measures between any pair of books from Charles Darwin! We can now use this matrix to quickly extract the information we need, i.e., the distance between one book and one or several others. </p>\n",
    "<p>As a first step, we will display which books are the most similar to \"<em>On the Origin of Species</em>,\" more specifically we will produce a bar chart showing all books ranked by how similar they are to Darwin's landmark work.</p>"
   ]
  },
  {
   "cell_type": "code",
   "execution_count": 13,
   "metadata": {
    "dc": {
     "key": "73"
    },
    "tags": [
     "sample_code"
    ]
   },
   "outputs": [
    {
     "data": {
      "image/png": "[encoded data removed]",
      "text/plain": [
       "<Figure size 720x720 with 1 Axes>"
      ]
     },
     "metadata": {
      "needs_background": "light"
     },
     "output_type": "display_data"
    }
   ],
   "source": [
    "# This is needed to display plots in a notebook\n",
    "%matplotlib inline\n",
    "\n",
    "# Import libraries\n",
    "import matplotlib.pyplot as plt\n",
    "\n",
    "# Select the column corresponding to \"On the Origin of Species\" and \n",
    "v = sim_df['OriginofSpecies']\n",
    "\n",
    "fig = plt.figure(figsize=(10,10))\n",
    "# Sort by ascending scores\n",
    "v_sorted = v.sort_values()\n",
    "\n",
    "# Plot this data has a horizontal bar plot\n",
    "v_sorted.plot.barh(x='lab', y='val', rot=0)\n",
    "\n",
    "# Modify the axes labels and plot title for a better readability\n",
    "plt.xlabel('Similarity Score')\n",
    "plt.ylabel('Book Title')\n",
    "plt.title('Most similar books to \"On the Origin of Species\"')\n",
    "plt.show()"
   ]
  },
  {
   "cell_type": "markdown",
   "metadata": {
    "dc": {
     "key": "80"
    },
    "deletable": false,
    "editable": false,
    "run_control": {
     "frozen": true
    },
    "tags": [
     "context"
    ]
   },
   "source": [
    "## 12. Which books have similar content?\n",
    "<p>This turns out to be extremely useful if we want to determine a given book's most similar work. For example, we have just seen that if you enjoyed \"<em>On the Origin of Species</em>,\" you can read books discussing similar concepts such as \"<em>The Variation of Animals and Plants under Domestication</em>\" or \"<em>The Descent of Man, and Selection in Relation to Sex</em>.\" If you are familiar with Darwin's work, these suggestions will likely seem natural to you. Indeed, <em>On the Origin of Species</em> has a whole chapter about domestication and <em>The Descent of Man, and Selection in Relation to Sex</em> applies the theory of natural selection to human evolution. Hence, the results make sense.</p>\n",
    "<p>However, we now want to have a better understanding of the big picture and see how Darwin's books are generally related to each other (in terms of topics discussed). To this purpose, we will represent the whole similarity matrix as a dendrogram, which is a standard tool to display such data. <strong>This last approach will display all the information about book similarities at once.</strong> For example, we can find a book's closest relative but, also, we can visualize which groups of books have similar topics (e.g., the cluster about Charles Darwin personal life with his autobiography and letters). If you are familiar with Darwin's bibliography, the results should not surprise you too much, which indicates the method gives good results. Otherwise, next time you read one of the author's book, you will know which other books to read next in order to learn more about the topics it addressed.</p>"
   ]
  },
  {
   "cell_type": "code",
   "execution_count": 14,
   "metadata": {
    "dc": {
     "key": "80"
    },
    "tags": [
     "sample_code"
    ]
   },
   "outputs": [
    {
     "data": {
      "image/png": "[encoded data removed]",
      "text/plain": [
       "<Figure size 720x720 with 1 Axes>"
      ]
     },
     "metadata": {
      "needs_background": "light"
     },
     "output_type": "display_data"
    }
   ],
   "source": [
    "# Import libraries\n",
    "from scipy.cluster import hierarchy\n",
    "\n",
    "# Compute the clusters from the similarity matrix,\n",
    "# using the Ward variance minimization algorithm\n",
    "Z = hierarchy.linkage(sim_df,'ward')\n",
    "\n",
    "# Create the figure and set it's size.\n",
    "fig = plt.figure(figsize=(10,10))\n",
    "\n",
    "# Display this result as a horizontal dendrogram\n",
    "a = hierarchy.dendrogram(Z,leaf_font_size=10, labels=sim_df.index, orientation=\"left\")"
   ]
  },
  {
   "cell_type": "markdown",
   "metadata": {},
   "source": [
    "**Summary**\n",
    "\n",
    "- We have tokenize our corpus, i.e., transform each text into a list of the individual words (called tokens) it is made of.\n",
    "\n",
    "- We built a tf-idf model (term frequency–inverse document frequency) which defines the importance of each word depending on how frequent it is in this text and how infrequent it is in all the other documents. Note: A high tf-idf score for a word will indicate that this word is specific to this text.\n",
    "\n",
    "- We used cosine similarity and visualized the results as a distance matrix, i.e., a matrix showing all pairwise distances between Darwin's books to determine the most similar books to \"Origin of the species\".\n",
    "\n",
    "- Finally, we studied how Darwin's books are generally related to each other (in terms of topics discussed)by representing the similarity matrix as a dendrogram."
   ]
  }
 ],
 "metadata": {
  "kernelspec": {
   "display_name": "Python 3 (ipykernel)",
   "language": "python",
   "name": "python3"
  },
  "language_info": {
   "codemirror_mode": {
    "name": "ipython",
    "version": 3
   },
   "file_extension": ".py",
   "mimetype": "text/x-python",
   "name": "python",
   "nbconvert_exporter": "python",
   "pygments_lexer": "ipython3",
   "version": "3.10.5"
  }
 },
 "nbformat": 4,
 "nbformat_minor": 2
}
